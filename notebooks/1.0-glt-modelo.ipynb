{
 "cells": [
  {
   "cell_type": "markdown",
   "metadata": {},
   "source": [
    "## Sobre o dataset\n",
    "O conjunto de dados veio de uma enquete com os clientes da BoraBusão e queremos saber se com estes dados podemos prever a satisfação dos mesmos com os serviços da empresa. (Lembrando que tanto a empresa citada quanto os dados são fictícios e alterados)\n",
    "\n",
    "### Features e contexto\n",
    "* ID: Identificação do cliente\n",
    "* Genero: Gênero do cliente\n",
    "* PlanoFidelidade: Se o cliente possui ou não o plano fidelidade da BoraBusão\n",
    "* Idade: Idade do cliente\n",
    "* RazaoViagem: Motivo da viagem ( pessoal ou a trabalho? )\n",
    "* CategoriaPassagem: Em qual catergoria ele está viajando? Normal, Comforto ou Leito\n",
    "* DistanciaKm: A distancia do trecho de viagem\n",
    "* WiFi: Possui WiFi no ônibus, o serviço está bom?\n",
    "* ConvenienciaHorarios: Os horários de partida e chagada são convenientes?\n",
    "* FacilidadeReservaViaApp: Nível de facilidade de fazer a reserva da passagem\n",
    "* PontosLocalização: A localização dos pontos de ônibus é boa, qual a satisfação com relação a esse ponto\n",
    "* Alimentação: A alimentação servida no oninbus e nos pontos, qual a sua avaliação?\n",
    "* CheckInViaApp: Facilidade de fazer o checkIn via o app\n",
    "* ConfortoInterno: Nível de conforto do ônibus ( cadeiras, ar-condicionado)\n",
    "* ServicosIntegracao: Nível de satisfação desde a chegada até o embarque.\n",
    "* SalaDeEspera: Nível de satisfação com a sala de espera de quem tem o plano Fidelidade\n",
    "* Bagagem: Nível de satisfação com o serviço e manuseamento da bagagem do passageiro\n",
    "* ServicoCheckin: Nivel de satisfaçao com o serviço de checkin local\n",
    "* ServicoDeBordo: Nível de satisfação com o serviço de bordo\n",
    "* Limpeza: Nível de satisfação com a Limpeza\n",
    "* AtrasoNaSaída: Atraso em minutos na partida\n",
    "* AtrasoNaChegada: Atraso em minuto na chegada\n",
    "* SatisfacaoGeral: Variável alvo, o cliente está satisfeito ou não"
   ]
  },
  {
   "cell_type": "markdown",
   "metadata": {},
   "source": [
    "## Importações de módulos e configurações"
   ]
  },
  {
   "cell_type": "code",
   "execution_count": 79,
   "metadata": {},
   "outputs": [],
   "source": [
    "%matplotlib inline\n",
    "\n",
    "import joblib\n",
    "import numpy as np\n",
    "import pandas as pd\n",
    "pd.set_option('display.max_columns', None)\n",
    "import itertools\n",
    "import pickle\n",
    "\n",
    "import seaborn as sns\n",
    "import matplotlib.pyplot as plt\n",
    "from matplotlib.colors import LinearSegmentedColormap\n",
    "import matplotlib.font_manager\n",
    "import plotly.express as px\n",
    "import plotly.graph_objects as go\n",
    "\n",
    "import mlflow\n",
    "\n",
    "from imblearn import under_sampling\n",
    "from sklearn.preprocessing import LabelEncoder\n",
    "from sklearn.preprocessing import MinMaxScaler, StandardScaler, RobustScaler\n",
    "from sklearn.tree import DecisionTreeClassifier\n",
    "from sklearn.linear_model import LogisticRegression\n",
    "from sklearn.ensemble import RandomForestClassifier\n",
    "from sklearn.svm import SVC\n",
    "from sklearn.neural_network import MLPClassifier\n",
    "from sklearn.naive_bayes import GaussianNB\n",
    "from sklearn.pipeline import Pipeline, FunctionTransformer\n",
    "from sklearn.compose import ColumnTransformer\n",
    "from sklearn.preprocessing import Normalizer\n",
    "from sklearn.base import BaseEstimator, TransformerMixin\n",
    "\n",
    "from sklearn.model_selection import train_test_split, GridSearchCV, RandomizedSearchCV\n",
    "from scipy.stats import ks_2samp\n",
    "from sklearn.metrics import mean_squared_error, mean_absolute_error, r2_score, roc_curve, auc, roc_auc_score, accuracy_score, confusion_matrix"
   ]
  },
  {
   "cell_type": "markdown",
   "metadata": {},
   "source": [
    "## Funções auxiliares"
   ]
  },
  {
   "cell_type": "code",
   "execution_count": 2,
   "metadata": {},
   "outputs": [],
   "source": [
    "def faixa_idade(x, minimum_age, first_quantile, second_quantile, third_quantile, max_age):\n",
    "    if(x < first_quantile):\n",
    "        return f\"{minimum_age}-{first_quantile}\"\n",
    "    elif(x < second_quantile):\n",
    "        return f\"{first_quantile}-{second_quantile}\"\n",
    "    elif(x < third_quantile):\n",
    "        return f\"{second_quantile}-{third_quantile}\"\n",
    "    else:\n",
    "        return f\"{third_quantile}-{max_age}\""
   ]
  },
  {
   "cell_type": "code",
   "execution_count": 3,
   "metadata": {},
   "outputs": [],
   "source": [
    "def dm_colors(n_colors=10, as_cmap=False):\n",
    "    if(as_cmap):\n",
    "        return LinearSegmentedColormap.from_list(\n",
    "        \"Custom\", [\"#ff5871\", \"#68e699\"], N=n_colors)\n",
    "    colors = [\"#202ad0\", \"#ff9a98\", \"#ffe372\", \"#7df4ed\", \"#68e699\", \"#000033\", \"#42d6fd\", \"#ff5871\", \"#ffc000\", \"#00c8ba\"]\n",
    "    return sns.color_palette(palette=colors, n_colors=n_colors, as_cmap=as_cmap)\n"
   ]
  },
  {
   "cell_type": "code",
   "execution_count": 4,
   "metadata": {},
   "outputs": [],
   "source": [
    "def set_dm_theme():\n",
    "    sns.set_theme(palette=dm_colors(), font_scale=1, font='Arial')"
   ]
  },
  {
   "cell_type": "code",
   "execution_count": 5,
   "metadata": {},
   "outputs": [],
   "source": [
    "set_dm_theme()"
   ]
  },
  {
   "cell_type": "markdown",
   "metadata": {},
   "source": [
    "## 1 - Data Collection"
   ]
  },
  {
   "cell_type": "markdown",
   "metadata": {},
   "source": [
    "### Lendo csv"
   ]
  },
  {
   "cell_type": "code",
   "execution_count": 6,
   "metadata": {},
   "outputs": [
    {
     "data": {
      "text/plain": [
       "(103904, 24)"
      ]
     },
     "execution_count": 6,
     "metadata": {},
     "output_type": "execute_result"
    }
   ],
   "source": [
    "df = pd.read_csv('../data/raw/BoraBusTratado.csv')\n",
    "df.shape"
   ]
  },
  {
   "cell_type": "code",
   "execution_count": 7,
   "metadata": {},
   "outputs": [
    {
     "data": {
      "text/html": [
       "<div>\n",
       "<style scoped>\n",
       "    .dataframe tbody tr th:only-of-type {\n",
       "        vertical-align: middle;\n",
       "    }\n",
       "\n",
       "    .dataframe tbody tr th {\n",
       "        vertical-align: top;\n",
       "    }\n",
       "\n",
       "    .dataframe thead th {\n",
       "        text-align: right;\n",
       "    }\n",
       "</style>\n",
       "<table border=\"1\" class=\"dataframe\">\n",
       "  <thead>\n",
       "    <tr style=\"text-align: right;\">\n",
       "      <th></th>\n",
       "      <th>ID</th>\n",
       "      <th>Genero</th>\n",
       "      <th>PlanoFidelidade</th>\n",
       "      <th>Idade</th>\n",
       "      <th>RazaoViagem</th>\n",
       "      <th>CategoriaPassagem</th>\n",
       "      <th>DistanciaKm</th>\n",
       "      <th>WiFi</th>\n",
       "      <th>ConvenienciaHorarios</th>\n",
       "      <th>FacilidadeReservaViaApp</th>\n",
       "      <th>PontosLocalizacao</th>\n",
       "      <th>Alimentacao</th>\n",
       "      <th>CheckInViaApp</th>\n",
       "      <th>ConfortoInterno</th>\n",
       "      <th>Entretenimento</th>\n",
       "      <th>ServicosIntegracao</th>\n",
       "      <th>SalaDeEspera</th>\n",
       "      <th>Bagagem</th>\n",
       "      <th>ServicoCheckIn</th>\n",
       "      <th>ServicoDeBordo</th>\n",
       "      <th>Limpeza&amp;Higiene</th>\n",
       "      <th>AtrasoNaSaida</th>\n",
       "      <th>AtrasoNaChegada</th>\n",
       "      <th>SatisfacaoGeral</th>\n",
       "    </tr>\n",
       "  </thead>\n",
       "  <tbody>\n",
       "    <tr>\n",
       "      <th>0</th>\n",
       "      <td>70172</td>\n",
       "      <td>Masculino</td>\n",
       "      <td>Sim</td>\n",
       "      <td>13</td>\n",
       "      <td>TurismoOuPessoal</td>\n",
       "      <td>Comforto</td>\n",
       "      <td>288.0</td>\n",
       "      <td>3</td>\n",
       "      <td>4</td>\n",
       "      <td>3</td>\n",
       "      <td>1</td>\n",
       "      <td>5</td>\n",
       "      <td>3</td>\n",
       "      <td>5</td>\n",
       "      <td>5</td>\n",
       "      <td>4</td>\n",
       "      <td>3</td>\n",
       "      <td>4</td>\n",
       "      <td>4</td>\n",
       "      <td>5</td>\n",
       "      <td>5</td>\n",
       "      <td>25</td>\n",
       "      <td>18.0</td>\n",
       "      <td>Nao</td>\n",
       "    </tr>\n",
       "    <tr>\n",
       "      <th>1</th>\n",
       "      <td>5047</td>\n",
       "      <td>Masculino</td>\n",
       "      <td>Nao</td>\n",
       "      <td>25</td>\n",
       "      <td>NegociosOuTrabalho</td>\n",
       "      <td>Leito</td>\n",
       "      <td>147.0</td>\n",
       "      <td>3</td>\n",
       "      <td>2</td>\n",
       "      <td>3</td>\n",
       "      <td>3</td>\n",
       "      <td>1</td>\n",
       "      <td>3</td>\n",
       "      <td>1</td>\n",
       "      <td>1</td>\n",
       "      <td>1</td>\n",
       "      <td>5</td>\n",
       "      <td>3</td>\n",
       "      <td>1</td>\n",
       "      <td>4</td>\n",
       "      <td>1</td>\n",
       "      <td>1</td>\n",
       "      <td>6.0</td>\n",
       "      <td>Nao</td>\n",
       "    </tr>\n",
       "    <tr>\n",
       "      <th>2</th>\n",
       "      <td>110028</td>\n",
       "      <td>Feminino</td>\n",
       "      <td>Sim</td>\n",
       "      <td>26</td>\n",
       "      <td>NegociosOuTrabalho</td>\n",
       "      <td>Leito</td>\n",
       "      <td>714.0</td>\n",
       "      <td>2</td>\n",
       "      <td>2</td>\n",
       "      <td>2</td>\n",
       "      <td>2</td>\n",
       "      <td>5</td>\n",
       "      <td>5</td>\n",
       "      <td>5</td>\n",
       "      <td>5</td>\n",
       "      <td>4</td>\n",
       "      <td>3</td>\n",
       "      <td>4</td>\n",
       "      <td>4</td>\n",
       "      <td>4</td>\n",
       "      <td>5</td>\n",
       "      <td>0</td>\n",
       "      <td>0.0</td>\n",
       "      <td>Sim</td>\n",
       "    </tr>\n",
       "    <tr>\n",
       "      <th>3</th>\n",
       "      <td>24026</td>\n",
       "      <td>Feminino</td>\n",
       "      <td>Sim</td>\n",
       "      <td>25</td>\n",
       "      <td>NegociosOuTrabalho</td>\n",
       "      <td>Leito</td>\n",
       "      <td>351.0</td>\n",
       "      <td>2</td>\n",
       "      <td>5</td>\n",
       "      <td>5</td>\n",
       "      <td>5</td>\n",
       "      <td>2</td>\n",
       "      <td>2</td>\n",
       "      <td>2</td>\n",
       "      <td>2</td>\n",
       "      <td>2</td>\n",
       "      <td>5</td>\n",
       "      <td>3</td>\n",
       "      <td>1</td>\n",
       "      <td>4</td>\n",
       "      <td>2</td>\n",
       "      <td>11</td>\n",
       "      <td>9.0</td>\n",
       "      <td>Nao</td>\n",
       "    </tr>\n",
       "    <tr>\n",
       "      <th>4</th>\n",
       "      <td>119299</td>\n",
       "      <td>Masculino</td>\n",
       "      <td>Sim</td>\n",
       "      <td>61</td>\n",
       "      <td>NegociosOuTrabalho</td>\n",
       "      <td>Leito</td>\n",
       "      <td>134.0</td>\n",
       "      <td>3</td>\n",
       "      <td>3</td>\n",
       "      <td>3</td>\n",
       "      <td>3</td>\n",
       "      <td>4</td>\n",
       "      <td>5</td>\n",
       "      <td>5</td>\n",
       "      <td>3</td>\n",
       "      <td>3</td>\n",
       "      <td>4</td>\n",
       "      <td>4</td>\n",
       "      <td>3</td>\n",
       "      <td>3</td>\n",
       "      <td>3</td>\n",
       "      <td>0</td>\n",
       "      <td>0.0</td>\n",
       "      <td>Sim</td>\n",
       "    </tr>\n",
       "  </tbody>\n",
       "</table>\n",
       "</div>"
      ],
      "text/plain": [
       "       ID     Genero PlanoFidelidade  Idade         RazaoViagem  \\\n",
       "0   70172  Masculino             Sim     13    TurismoOuPessoal   \n",
       "1    5047  Masculino             Nao     25  NegociosOuTrabalho   \n",
       "2  110028   Feminino             Sim     26  NegociosOuTrabalho   \n",
       "3   24026   Feminino             Sim     25  NegociosOuTrabalho   \n",
       "4  119299  Masculino             Sim     61  NegociosOuTrabalho   \n",
       "\n",
       "  CategoriaPassagem  DistanciaKm  WiFi  ConvenienciaHorarios  \\\n",
       "0          Comforto        288.0     3                     4   \n",
       "1             Leito        147.0     3                     2   \n",
       "2             Leito        714.0     2                     2   \n",
       "3             Leito        351.0     2                     5   \n",
       "4             Leito        134.0     3                     3   \n",
       "\n",
       "   FacilidadeReservaViaApp  PontosLocalizacao  Alimentacao  CheckInViaApp  \\\n",
       "0                        3                  1            5              3   \n",
       "1                        3                  3            1              3   \n",
       "2                        2                  2            5              5   \n",
       "3                        5                  5            2              2   \n",
       "4                        3                  3            4              5   \n",
       "\n",
       "   ConfortoInterno  Entretenimento  ServicosIntegracao  SalaDeEspera  Bagagem  \\\n",
       "0                5               5                   4             3        4   \n",
       "1                1               1                   1             5        3   \n",
       "2                5               5                   4             3        4   \n",
       "3                2               2                   2             5        3   \n",
       "4                5               3                   3             4        4   \n",
       "\n",
       "   ServicoCheckIn  ServicoDeBordo  Limpeza&Higiene  AtrasoNaSaida  \\\n",
       "0               4               5                5             25   \n",
       "1               1               4                1              1   \n",
       "2               4               4                5              0   \n",
       "3               1               4                2             11   \n",
       "4               3               3                3              0   \n",
       "\n",
       "   AtrasoNaChegada SatisfacaoGeral  \n",
       "0             18.0             Nao  \n",
       "1              6.0             Nao  \n",
       "2              0.0             Sim  \n",
       "3              9.0             Nao  \n",
       "4              0.0             Sim  "
      ]
     },
     "execution_count": 7,
     "metadata": {},
     "output_type": "execute_result"
    }
   ],
   "source": [
    "df.head()"
   ]
  },
  {
   "cell_type": "code",
   "execution_count": 8,
   "metadata": {},
   "outputs": [
    {
     "name": "stdout",
     "output_type": "stream",
     "text": [
      "<class 'pandas.core.frame.DataFrame'>\n",
      "RangeIndex: 103904 entries, 0 to 103903\n",
      "Data columns (total 24 columns):\n",
      " #   Column                   Non-Null Count   Dtype  \n",
      "---  ------                   --------------   -----  \n",
      " 0   ID                       103904 non-null  int64  \n",
      " 1   Genero                   103904 non-null  object \n",
      " 2   PlanoFidelidade          103904 non-null  object \n",
      " 3   Idade                    103904 non-null  int64  \n",
      " 4   RazaoViagem              103904 non-null  object \n",
      " 5   CategoriaPassagem        103904 non-null  object \n",
      " 6   DistanciaKm              103904 non-null  float64\n",
      " 7   WiFi                     103904 non-null  int64  \n",
      " 8   ConvenienciaHorarios     103904 non-null  int64  \n",
      " 9   FacilidadeReservaViaApp  103904 non-null  int64  \n",
      " 10  PontosLocalizacao        103904 non-null  int64  \n",
      " 11  Alimentacao              103904 non-null  int64  \n",
      " 12  CheckInViaApp            103904 non-null  int64  \n",
      " 13  ConfortoInterno          103904 non-null  int64  \n",
      " 14  Entretenimento           103904 non-null  int64  \n",
      " 15  ServicosIntegracao       103904 non-null  int64  \n",
      " 16  SalaDeEspera             103904 non-null  int64  \n",
      " 17  Bagagem                  103904 non-null  int64  \n",
      " 18  ServicoCheckIn           103904 non-null  int64  \n",
      " 19  ServicoDeBordo           103904 non-null  int64  \n",
      " 20  Limpeza&Higiene          103904 non-null  int64  \n",
      " 21  AtrasoNaSaida            103904 non-null  int64  \n",
      " 22  AtrasoNaChegada          103594 non-null  float64\n",
      " 23  SatisfacaoGeral          103904 non-null  object \n",
      "dtypes: float64(2), int64(17), object(5)\n",
      "memory usage: 19.0+ MB\n"
     ]
    }
   ],
   "source": [
    "df.info()"
   ]
  },
  {
   "cell_type": "code",
   "execution_count": 9,
   "metadata": {},
   "outputs": [
    {
     "data": {
      "text/html": [
       "<div>\n",
       "<style scoped>\n",
       "    .dataframe tbody tr th:only-of-type {\n",
       "        vertical-align: middle;\n",
       "    }\n",
       "\n",
       "    .dataframe tbody tr th {\n",
       "        vertical-align: top;\n",
       "    }\n",
       "\n",
       "    .dataframe thead th {\n",
       "        text-align: right;\n",
       "    }\n",
       "</style>\n",
       "<table border=\"1\" class=\"dataframe\">\n",
       "  <thead>\n",
       "    <tr style=\"text-align: right;\">\n",
       "      <th></th>\n",
       "      <th>Genero</th>\n",
       "      <th>PlanoFidelidade</th>\n",
       "      <th>RazaoViagem</th>\n",
       "      <th>CategoriaPassagem</th>\n",
       "      <th>SatisfacaoGeral</th>\n",
       "    </tr>\n",
       "  </thead>\n",
       "  <tbody>\n",
       "    <tr>\n",
       "      <th>0</th>\n",
       "      <td>Masculino</td>\n",
       "      <td>Sim</td>\n",
       "      <td>TurismoOuPessoal</td>\n",
       "      <td>Comforto</td>\n",
       "      <td>Nao</td>\n",
       "    </tr>\n",
       "    <tr>\n",
       "      <th>1</th>\n",
       "      <td>Masculino</td>\n",
       "      <td>Nao</td>\n",
       "      <td>NegociosOuTrabalho</td>\n",
       "      <td>Leito</td>\n",
       "      <td>Nao</td>\n",
       "    </tr>\n",
       "    <tr>\n",
       "      <th>2</th>\n",
       "      <td>Feminino</td>\n",
       "      <td>Sim</td>\n",
       "      <td>NegociosOuTrabalho</td>\n",
       "      <td>Leito</td>\n",
       "      <td>Sim</td>\n",
       "    </tr>\n",
       "    <tr>\n",
       "      <th>3</th>\n",
       "      <td>Feminino</td>\n",
       "      <td>Sim</td>\n",
       "      <td>NegociosOuTrabalho</td>\n",
       "      <td>Leito</td>\n",
       "      <td>Nao</td>\n",
       "    </tr>\n",
       "    <tr>\n",
       "      <th>4</th>\n",
       "      <td>Masculino</td>\n",
       "      <td>Sim</td>\n",
       "      <td>NegociosOuTrabalho</td>\n",
       "      <td>Leito</td>\n",
       "      <td>Sim</td>\n",
       "    </tr>\n",
       "    <tr>\n",
       "      <th>...</th>\n",
       "      <td>...</td>\n",
       "      <td>...</td>\n",
       "      <td>...</td>\n",
       "      <td>...</td>\n",
       "      <td>...</td>\n",
       "    </tr>\n",
       "    <tr>\n",
       "      <th>103899</th>\n",
       "      <td>Feminino</td>\n",
       "      <td>Nao</td>\n",
       "      <td>NegociosOuTrabalho</td>\n",
       "      <td>Normal</td>\n",
       "      <td>Nao</td>\n",
       "    </tr>\n",
       "    <tr>\n",
       "      <th>103900</th>\n",
       "      <td>Masculino</td>\n",
       "      <td>Sim</td>\n",
       "      <td>NegociosOuTrabalho</td>\n",
       "      <td>Leito</td>\n",
       "      <td>Sim</td>\n",
       "    </tr>\n",
       "    <tr>\n",
       "      <th>103901</th>\n",
       "      <td>Masculino</td>\n",
       "      <td>Nao</td>\n",
       "      <td>NegociosOuTrabalho</td>\n",
       "      <td>Leito</td>\n",
       "      <td>Nao</td>\n",
       "    </tr>\n",
       "    <tr>\n",
       "      <th>103902</th>\n",
       "      <td>Feminino</td>\n",
       "      <td>Nao</td>\n",
       "      <td>NegociosOuTrabalho</td>\n",
       "      <td>Normal</td>\n",
       "      <td>Nao</td>\n",
       "    </tr>\n",
       "    <tr>\n",
       "      <th>103903</th>\n",
       "      <td>Masculino</td>\n",
       "      <td>Sim</td>\n",
       "      <td>NegociosOuTrabalho</td>\n",
       "      <td>Leito</td>\n",
       "      <td>Nao</td>\n",
       "    </tr>\n",
       "  </tbody>\n",
       "</table>\n",
       "<p>103904 rows × 5 columns</p>\n",
       "</div>"
      ],
      "text/plain": [
       "           Genero PlanoFidelidade         RazaoViagem CategoriaPassagem  \\\n",
       "0       Masculino             Sim    TurismoOuPessoal          Comforto   \n",
       "1       Masculino             Nao  NegociosOuTrabalho             Leito   \n",
       "2        Feminino             Sim  NegociosOuTrabalho             Leito   \n",
       "3        Feminino             Sim  NegociosOuTrabalho             Leito   \n",
       "4       Masculino             Sim  NegociosOuTrabalho             Leito   \n",
       "...           ...             ...                 ...               ...   \n",
       "103899   Feminino             Nao  NegociosOuTrabalho            Normal   \n",
       "103900  Masculino             Sim  NegociosOuTrabalho             Leito   \n",
       "103901  Masculino             Nao  NegociosOuTrabalho             Leito   \n",
       "103902   Feminino             Nao  NegociosOuTrabalho            Normal   \n",
       "103903  Masculino             Sim  NegociosOuTrabalho             Leito   \n",
       "\n",
       "       SatisfacaoGeral  \n",
       "0                  Nao  \n",
       "1                  Nao  \n",
       "2                  Sim  \n",
       "3                  Nao  \n",
       "4                  Sim  \n",
       "...                ...  \n",
       "103899             Nao  \n",
       "103900             Sim  \n",
       "103901             Nao  \n",
       "103902             Nao  \n",
       "103903             Nao  \n",
       "\n",
       "[103904 rows x 5 columns]"
      ]
     },
     "execution_count": 9,
     "metadata": {},
     "output_type": "execute_result"
    }
   ],
   "source": [
    "df.select_dtypes('object')"
   ]
  },
  {
   "cell_type": "markdown",
   "metadata": {},
   "source": [
    "## 2 - Data Preparation"
   ]
  },
  {
   "cell_type": "markdown",
   "metadata": {},
   "source": [
    "### Verificação de valores inconsistentes"
   ]
  },
  {
   "cell_type": "code",
   "execution_count": 10,
   "metadata": {},
   "outputs": [
    {
     "name": "stdout",
     "output_type": "stream",
     "text": [
      "70172     1\n",
      "116739    1\n",
      "6259      1\n",
      "17470     1\n",
      "118574    1\n",
      "         ..\n",
      "107167    1\n",
      "103283    1\n",
      "112365    1\n",
      "98359     1\n",
      "62567     1\n",
      "Name: ID, Length: 103904, dtype: int64\n",
      "\n",
      "Feminino     52727\n",
      "Masculino    51177\n",
      "Name: Genero, dtype: int64\n",
      "\n",
      "Sim    84923\n",
      "Nao    18981\n",
      "Name: PlanoFidelidade, dtype: int64\n",
      "\n",
      "39    2969\n",
      "25    2798\n",
      "40    2574\n",
      "44    2482\n",
      "42    2457\n",
      "      ... \n",
      "74      47\n",
      "76      45\n",
      "79      42\n",
      "78      33\n",
      "85      17\n",
      "Name: Idade, Length: 75, dtype: int64\n",
      "\n",
      "NegociosOuTrabalho    71655\n",
      "TurismoOuPessoal      32249\n",
      "Name: RazaoViagem, dtype: int64\n",
      "\n",
      "Leito       49665\n",
      "Normal      46745\n",
      "Comforto     7494\n",
      "Name: CategoriaPassagem, dtype: int64\n",
      "\n",
      "211.0    797\n",
      "148.0    577\n",
      "231.0    497\n",
      "252.0    488\n",
      "279.0    485\n",
      "        ... \n",
      "825.0      1\n",
      "637.0      1\n",
      "245.0      1\n",
      "800.0      1\n",
      "250.0      1\n",
      "Name: DistanciaKm, Length: 2420, dtype: int64\n",
      "\n",
      "3    25868\n",
      "2    25830\n",
      "4    19794\n",
      "1    17840\n",
      "5    11469\n",
      "0     3103\n",
      "Name: WiFi, dtype: int64\n",
      "\n",
      "4    25546\n",
      "5    22403\n",
      "3    17966\n",
      "2    17191\n",
      "1    15498\n",
      "0     5300\n",
      "Name: ConvenienciaHorarios, dtype: int64\n",
      "\n",
      "3    24449\n",
      "2    24021\n",
      "4    19571\n",
      "1    17525\n",
      "5    13851\n",
      "0     4487\n",
      "Name: FacilidadeReservaViaApp, dtype: int64\n",
      "\n",
      "3    28577\n",
      "4    24426\n",
      "2    19459\n",
      "1    17562\n",
      "5    13879\n",
      "0        1\n",
      "Name: PontosLocalizacao, dtype: int64\n",
      "\n",
      "4    24359\n",
      "5    22313\n",
      "3    22300\n",
      "2    21988\n",
      "1    12837\n",
      "0      107\n",
      "Name: Alimentacao, dtype: int64\n",
      "\n",
      "4    30762\n",
      "3    21804\n",
      "5    20713\n",
      "2    17505\n",
      "1    10692\n",
      "0     2428\n",
      "Name: CheckInViaApp, dtype: int64\n",
      "\n",
      "4    31765\n",
      "5    26470\n",
      "3    18696\n",
      "2    14897\n",
      "1    12075\n",
      "0        1\n",
      "Name: ConfortoInterno, dtype: int64\n",
      "\n",
      "4    29423\n",
      "5    25213\n",
      "3    19139\n",
      "2    17637\n",
      "1    12478\n",
      "0       14\n",
      "Name: Entretenimento, dtype: int64\n",
      "\n",
      "4    30867\n",
      "5    23648\n",
      "3    22833\n",
      "2    14681\n",
      "1    11872\n",
      "0        3\n",
      "Name: ServicosIntegracao, dtype: int64\n",
      "\n",
      "4    28789\n",
      "5    24667\n",
      "3    20098\n",
      "2    19525\n",
      "1    10353\n",
      "0      472\n",
      "Name: SalaDeEspera, dtype: int64\n",
      "\n",
      "4    37383\n",
      "5    27131\n",
      "3    20632\n",
      "2    11521\n",
      "1     7237\n",
      "Name: Bagagem, dtype: int64\n",
      "\n",
      "4    29055\n",
      "3    28446\n",
      "5    20619\n",
      "2    12893\n",
      "1    12890\n",
      "0        1\n",
      "Name: ServicoCheckIn, dtype: int64\n",
      "\n",
      "4    37945\n",
      "5    27116\n",
      "3    20299\n",
      "2    11457\n",
      "1     7084\n",
      "0        3\n",
      "Name: ServicoDeBordo, dtype: int64\n",
      "\n",
      "4    27179\n",
      "3    24574\n",
      "5    22689\n",
      "2    16132\n",
      "1    13318\n",
      "0       12\n",
      "Name: Limpeza&Higiene, dtype: int64\n",
      "\n",
      "0      58668\n",
      "1       2948\n",
      "2       2274\n",
      "3       2009\n",
      "4       1854\n",
      "       ...  \n",
      "426        1\n",
      "465        1\n",
      "321        1\n",
      "692        1\n",
      "337        1\n",
      "Name: AtrasoNaSaida, Length: 446, dtype: int64\n",
      "\n",
      "0.0      58159\n",
      "1.0       2211\n",
      "2.0       2064\n",
      "3.0       1952\n",
      "4.0       1907\n",
      "         ...  \n",
      "458.0        1\n",
      "729.0        1\n",
      "382.0        1\n",
      "459.0        1\n",
      "369.0        1\n",
      "Name: AtrasoNaChegada, Length: 455, dtype: int64\n",
      "\n",
      "Nao    58879\n",
      "Sim    45025\n",
      "Name: SatisfacaoGeral, dtype: int64\n",
      "\n"
     ]
    }
   ],
   "source": [
    "for coluna in df.columns:\n",
    "    print(df[coluna].value_counts())\n",
    "    print()"
   ]
  },
  {
   "cell_type": "markdown",
   "metadata": {},
   "source": [
    "### Drop da coluna de ID"
   ]
  },
  {
   "cell_type": "code",
   "execution_count": 11,
   "metadata": {},
   "outputs": [],
   "source": [
    "df.drop(columns=['ID'], inplace=True)"
   ]
  },
  {
   "cell_type": "markdown",
   "metadata": {},
   "source": [
    "## 3 - Experimento e pipeline"
   ]
  },
  {
   "cell_type": "markdown",
   "metadata": {},
   "source": [
    "### Classes para criação dos steps"
   ]
  },
  {
   "cell_type": "markdown",
   "metadata": {},
   "source": [
    "#### Feature engineering"
   ]
  },
  {
   "cell_type": "code",
   "execution_count": 12,
   "metadata": {},
   "outputs": [],
   "source": [
    "class FaixaIdade(BaseEstimator, TransformerMixin):\n",
    "    def fit(self, X, y=None):\n",
    "        return self\n",
    "\n",
    "    # Considerando que X será um Dataframe\n",
    "    def transform(self, X, y=None):\n",
    "        try:\n",
    "            minimum_age = df[\"Idade\"].min()\n",
    "            first_quantile = df[\"Idade\"].quantile(0.25)\n",
    "            second_quantile = df[\"Idade\"].quantile(0.5)\n",
    "            third_quantile = df[\"Idade\"].quantile(0.75)\n",
    "            maximum_age = df[\"Idade\"].max()\n",
    "            X[\"FaixaIdade\"] = X[\"Idade\"].apply(lambda x: faixa_idade(x, minimum_age, first_quantile, second_quantile, third_quantile, maximum_age))\n",
    "        except:\n",
    "            pass\n",
    "        return X\n"
   ]
  },
  {
   "cell_type": "code",
   "execution_count": 13,
   "metadata": {},
   "outputs": [],
   "source": [
    "class EncodeFeatures(BaseEstimator, TransformerMixin):\n",
    "    def fit(self, X, y=None):\n",
    "        return self\n",
    "\n",
    "    # Considerando que X será um Dataframe\n",
    "    def transform(self, X, y=None):\n",
    "        try:\n",
    "            simnao_map = {\"Sim\": 1, \"Nao\": 0}\n",
    "            X[\"PlanoFidelidade\"] = X[\"PlanoFidelidade\"].map(simnao_map)\n",
    "        except:\n",
    "            pass\n",
    "        try:\n",
    "            X[\"CategoriaPassagem\"] = X[\"CategoriaPassagem\"].map({\"Normal\": 0, \"Comforto\": 1, \"Leito\": 2})\n",
    "        except:\n",
    "            pass\n",
    "\n",
    "        for column in X.select_dtypes('object').columns:\n",
    "            le = LabelEncoder()\n",
    "            X[column] = le.fit_transform(X[column])\n",
    "\n",
    "        return X\n"
   ]
  },
  {
   "cell_type": "markdown",
   "metadata": {},
   "source": [
    "### Classes de tratamento para o pipeline"
   ]
  },
  {
   "cell_type": "code",
   "execution_count": 14,
   "metadata": {},
   "outputs": [],
   "source": [
    "class SelecionaColunas(BaseEstimator, TransformerMixin):\n",
    "    \n",
    "    def __init__(self, columns):\n",
    "        self.columns = columns\n",
    "        \n",
    "    def fit(self, X, y=None):\n",
    "        return self\n",
    "    \n",
    "    def transform(self, X):\n",
    "        return X[self.columns]\n"
   ]
  },
  {
   "cell_type": "code",
   "execution_count": 15,
   "metadata": {},
   "outputs": [],
   "source": [
    "class DropNa(BaseEstimator, TransformerMixin):\n",
    "    def fit(self, X, y=None):\n",
    "        return self\n",
    "\n",
    "    # Considerando que X será um Dataframe\n",
    "    def transform(self, X, y=None):\n",
    "        try:\n",
    "            X[\"AtrasoNaChegada\"] = X[\"AtrasoNaChegada\"].dropna(inplace=True)\n",
    "        except:\n",
    "            pass\n",
    "        return X\n"
   ]
  },
  {
   "cell_type": "code",
   "execution_count": 16,
   "metadata": {},
   "outputs": [],
   "source": [
    "class FillNa(BaseEstimator, TransformerMixin):\n",
    "    def fit(self, X, y=None):\n",
    "        return self\n",
    "\n",
    "    # Considerando que X será um Dataframe\n",
    "    def transform(self, X, y=None):\n",
    "        try:\n",
    "            X[\"AtrasoNaChegada\"] = X[\"AtrasoNaChegada\"].fillna(0)\n",
    "        except:\n",
    "            pass\n",
    "\n",
    "        return X"
   ]
  },
  {
   "cell_type": "markdown",
   "metadata": {},
   "source": [
    "### Plot roc auc"
   ]
  },
  {
   "cell_type": "code",
   "execution_count": 17,
   "metadata": {},
   "outputs": [],
   "source": [
    "def roc_auc_plot(X_test, y_test, model):\n",
    "    ns_probs = [0 for _ in range(len(y_test))]\n",
    "    taxa_falso_positivo, taxa_verdadeiro_positivo, threshold = roc_curve(y_test, model.predict(X_test))\n",
    "    roc_auc = auc(taxa_falso_positivo, taxa_verdadeiro_positivo)\n",
    "\n",
    "    fig = px.line(x=taxa_falso_positivo, y=taxa_verdadeiro_positivo, title=f'Curva ROC (area = {roc_auc:.3f})', labels={'x': 'Taxa de falsos positivos', 'y': 'Taxa de verdadeiros positivos'})\n",
    "    fig.add_trace(go.Scatter(x=[0], y=[1], mode='markers', name='Ponto perfeito'))\n",
    "    return roc_auc, fig"
   ]
  },
  {
   "cell_type": "markdown",
   "metadata": {},
   "source": [
    "### Criação do experimento"
   ]
  },
  {
   "cell_type": "code",
   "execution_count": 18,
   "metadata": {},
   "outputs": [],
   "source": [
    "def run_experiment(train_df, test_df, validation_df, columns, y_column, classification_model, normalizer, null_func):\n",
    "    train_df[y_column] = train_df[y_column].map({\"Sim\": 1, \"Nao\": 0})\n",
    "    test_df[y_column] = test_df[y_column].map({\"Sim\": 1, \"Nao\": 0})\n",
    "    validation_df[y_column] = validation_df[y_column].map({\"Sim\": 1, \"Nao\": 0})\n",
    "\n",
    "    model = Pipeline(\n",
    "        steps=[\n",
    "            ('seleciona_colunas', SelecionaColunas(columns)),\n",
    "            ('null_drop', null_func()),\n",
    "            ('encodifica_strings', EncodeFeatures()),\n",
    "            ('normalizer', normalizer()),\n",
    "            ('treinamento', classification_model())\n",
    "        ]\n",
    "    )\n",
    "\n",
    "    mlflow.set_experiment('borabus_hackathon')\n",
    "    with mlflow.start_run(run_name='BoraBus Hackathon'):\n",
    "\n",
    "        y = train_df.pop('SatisfacaoGeral')\n",
    "        X = train_df[columns]\n",
    "\n",
    "        model.fit(X, y)\n",
    "        mlflow.sklearn.log_model(model, 'pipeline')\n",
    "\n",
    "        y_test_predict = model.predict(test_df[columns])\n",
    "        y_test = test_df[y_column]\n",
    "        df = pd.DataFrame()\n",
    "        df['target'] = y_test\n",
    "        df['predicted'] = y_test_predict\n",
    "\n",
    "        roc_auc, fig = roc_auc_plot(test_df[columns], test_df[y_column], model)\n",
    "        mlflow.log_figure(fig, 'roc_auc_curve.html')\n",
    "        fig = px.imshow(confusion_matrix(y_true=y_test, y_pred=y_test_predict), text_auto=True)\n",
    "        mlflow.log_figure(fig, 'confusion_matrix.html')\n",
    "\n",
    "        ks = ks_2samp(df[df['target'] == 0]['predicted'], df[df['target'] == 1]['predicted'])\n",
    "        accuracy = accuracy_score(y_true=y_test, y_pred=y_test_predict)\n",
    "        mlflow.log_param('model', classification_model)\n",
    "        mlflow.log_param('normalizador', normalizer)\n",
    "        mlflow.log_param('colunas utilizadas', ', '.join(columns))\n",
    "        mlflow.log_metric('ROC_AUC', roc_auc)\n",
    "        mlflow.log_metric('KS', ks.statistic)\n",
    "        mlflow.log_metric('KS_pvalue', ks.pvalue)\n",
    "        mlflow.log_metric('Accuracy', accuracy)\n",
    "\n"
   ]
  },
  {
   "cell_type": "markdown",
   "metadata": {},
   "source": [
    "### Separação dos dados em treino e teste"
   ]
  },
  {
   "cell_type": "code",
   "execution_count": 89,
   "metadata": {},
   "outputs": [],
   "source": [
    "## Realizando um shuffle nos dados\n",
    "df = df.sample(df.shape[0])\n",
    "df.reset_index(drop=True, inplace=True)"
   ]
  },
  {
   "cell_type": "code",
   "execution_count": 90,
   "metadata": {},
   "outputs": [],
   "source": [
    "test_10 = df.iloc[0:round(len(df)*0.1)]\n",
    "test_10.to_csv('../data/raw/1.0-glt-10_percent_test.csv')"
   ]
  },
  {
   "cell_type": "code",
   "execution_count": 91,
   "metadata": {},
   "outputs": [],
   "source": [
    "train_df = df.iloc[round(len(df)*0.1)+1:round(len(df)*0.7)]\n",
    "test_df = df.iloc[round(len(df)*0.7)+1:round(len(df)*0.85)]\n",
    "validation_df = df.iloc[round(len(df)*0.85)+1:]"
   ]
  },
  {
   "cell_type": "code",
   "execution_count": 92,
   "metadata": {},
   "outputs": [
    {
     "data": {
      "text/plain": [
       "Nao    35371\n",
       "Sim    26971\n",
       "Name: SatisfacaoGeral, dtype: int64"
      ]
     },
     "execution_count": 92,
     "metadata": {},
     "output_type": "execute_result"
    }
   ],
   "source": [
    "train_df['SatisfacaoGeral'].value_counts()"
   ]
  },
  {
   "cell_type": "code",
   "execution_count": 93,
   "metadata": {},
   "outputs": [],
   "source": [
    "undersampler = under_sampling.RandomUnderSampler()\n",
    "undersampled_X, undersampled_y = undersampler.fit_resample(train_df.drop(columns='SatisfacaoGeral'), train_df['SatisfacaoGeral'])"
   ]
  },
  {
   "cell_type": "code",
   "execution_count": 94,
   "metadata": {},
   "outputs": [],
   "source": [
    "train_df = pd.DataFrame(undersampled_X)\n",
    "train_df['SatisfacaoGeral'] = undersampled_y"
   ]
  },
  {
   "cell_type": "code",
   "execution_count": 95,
   "metadata": {},
   "outputs": [
    {
     "data": {
      "text/plain": [
       "Nao    26971\n",
       "Sim    26971\n",
       "Name: SatisfacaoGeral, dtype: int64"
      ]
     },
     "execution_count": 95,
     "metadata": {},
     "output_type": "execute_result"
    }
   ],
   "source": [
    "train_df['SatisfacaoGeral'].value_counts()"
   ]
  },
  {
   "cell_type": "code",
   "execution_count": 96,
   "metadata": {},
   "outputs": [
    {
     "name": "stdout",
     "output_type": "stream",
     "text": [
      "O dataframe de teste do binário tem 10.00% dos dados\n",
      "O dataframe de treino tem 51.92% dos dados\n",
      "O dataframe de teste tem 15.00% dos dados\n",
      "O dataframe de validação tem 15.00% dos dados\n"
     ]
    }
   ],
   "source": [
    "print(f'O dataframe de teste do binário tem {test_10.shape[0]/df.shape[0]*100:.2f}% dos dados')\n",
    "print(f'O dataframe de treino tem {train_df.shape[0]/df.shape[0]*100:.2f}% dos dados')\n",
    "print(f'O dataframe de teste tem {test_df.shape[0]/df.shape[0]*100:.2f}% dos dados')\n",
    "print(f'O dataframe de validação tem {test_df.shape[0]/df.shape[0]*100:.2f}% dos dados')"
   ]
  },
  {
   "cell_type": "code",
   "execution_count": 97,
   "metadata": {},
   "outputs": [],
   "source": [
    "colunas = list(df.drop(columns=['SatisfacaoGeral']).columns)\n",
    "coluna_target = 'SatisfacaoGeral'"
   ]
  },
  {
   "cell_type": "code",
   "execution_count": 98,
   "metadata": {},
   "outputs": [],
   "source": [
    "combinacoes = set()\n",
    "for L in range(1, len(colunas) + 1):\n",
    "    for subset in itertools.combinations(colunas, L):\n",
    "        if subset not in combinacoes and len(subset) > 0:\n",
    "            combinacoes.add(subset)\n",
    "combinacoes = [list(comb) for comb in combinacoes]\n",
    "combinacoes.sort()\n",
    "# combinacoes = [colunas]"
   ]
  },
  {
   "cell_type": "code",
   "execution_count": 99,
   "metadata": {},
   "outputs": [],
   "source": [
    "combinacoes = [colunas]"
   ]
  },
  {
   "cell_type": "code",
   "execution_count": 100,
   "metadata": {},
   "outputs": [
    {
     "data": {
      "text/plain": [
       "1"
      ]
     },
     "execution_count": 100,
     "metadata": {},
     "output_type": "execute_result"
    }
   ],
   "source": [
    "len(combinacoes)"
   ]
  },
  {
   "cell_type": "code",
   "execution_count": 101,
   "metadata": {},
   "outputs": [],
   "source": [
    "models = [MLPClassifier, LogisticRegression, DecisionTreeClassifier, RandomForestClassifier, SVC, GaussianNB]\n",
    "normalizers = [MinMaxScaler, StandardScaler, RobustScaler]\n",
    "nullfuncs = [DropNa, FillNa]\n",
    "\n",
    "for comb in combinacoes:\n",
    "    for model in models:\n",
    "        for normalizer in normalizers:\n",
    "            for nullfunc in nullfuncs:\n",
    "               run_experiment(train_df.copy(), test_df.copy(), validation_df.copy(), list(comb), coluna_target, model, normalizer, nullfunc)\n",
    "# pd.DataFrame(run_experiment(train_df, test_df, validation_df, colunas[0], coluna_target, LogisticRegression, MinMaxScaler, DropNa), columns=df.columns)"
   ]
  },
  {
   "cell_type": "markdown",
   "metadata": {},
   "source": [
    "### Melhor modelo por acurácia"
   ]
  },
  {
   "cell_type": "code",
   "execution_count": 102,
   "metadata": {},
   "outputs": [
    {
     "data": {
      "text/plain": [
       "<Experiment: artifact_location='file:///Users/gustavotamiosso/dm/treinamentos/BoraBusHackathon/notebooks/mlruns/1', experiment_id='1', lifecycle_stage='active', name='borabus_hackathon', tags={}>"
      ]
     },
     "execution_count": 102,
     "metadata": {},
     "output_type": "execute_result"
    }
   ],
   "source": [
    "mlflow.set_experiment('borabus_hackathon')"
   ]
  },
  {
   "cell_type": "code",
   "execution_count": 103,
   "metadata": {},
   "outputs": [],
   "source": [
    "runs = mlflow.search_runs(filter_string=\"metrics.Accuracy > 0.9\").sort_values(by='metrics.Accuracy', ascending=False)"
   ]
  },
  {
   "cell_type": "code",
   "execution_count": 104,
   "metadata": {},
   "outputs": [
    {
     "data": {
      "text/html": [
       "<div>\n",
       "<style scoped>\n",
       "    .dataframe tbody tr th:only-of-type {\n",
       "        vertical-align: middle;\n",
       "    }\n",
       "\n",
       "    .dataframe tbody tr th {\n",
       "        vertical-align: top;\n",
       "    }\n",
       "\n",
       "    .dataframe thead th {\n",
       "        text-align: right;\n",
       "    }\n",
       "</style>\n",
       "<table border=\"1\" class=\"dataframe\">\n",
       "  <thead>\n",
       "    <tr style=\"text-align: right;\">\n",
       "      <th></th>\n",
       "      <th>run_id</th>\n",
       "      <th>experiment_id</th>\n",
       "      <th>status</th>\n",
       "      <th>artifact_uri</th>\n",
       "      <th>start_time</th>\n",
       "      <th>end_time</th>\n",
       "      <th>metrics.Accuracy</th>\n",
       "      <th>metrics.ROC_AUC</th>\n",
       "      <th>metrics.KS</th>\n",
       "      <th>metrics.KS_pvalue</th>\n",
       "      <th>params.normalizador</th>\n",
       "      <th>params.colunas utilizadas</th>\n",
       "      <th>params.model</th>\n",
       "      <th>tags.mlflow.user</th>\n",
       "      <th>tags.mlflow.source.type</th>\n",
       "      <th>tags.mlflow.runName</th>\n",
       "      <th>tags.mlflow.source.git.commit</th>\n",
       "      <th>tags.mlflow.source.name</th>\n",
       "      <th>tags.mlflow.log-model.history</th>\n",
       "    </tr>\n",
       "  </thead>\n",
       "  <tbody>\n",
       "    <tr>\n",
       "      <th>11</th>\n",
       "      <td>1f286219c17541b9bddaa7730adfcc70</td>\n",
       "      <td>1</td>\n",
       "      <td>FINISHED</td>\n",
       "      <td>file:///Users/gustavotamiosso/dm/treinamentos/...</td>\n",
       "      <td>2022-09-25 13:44:57.217000+00:00</td>\n",
       "      <td>2022-09-25 13:45:03.672000+00:00</td>\n",
       "      <td>0.959638</td>\n",
       "      <td>0.957834</td>\n",
       "      <td>0.915667</td>\n",
       "      <td>0.0</td>\n",
       "      <td>&lt;class 'sklearn.preprocessing._data.MinMaxScal...</td>\n",
       "      <td>Genero, PlanoFidelidade, Idade, RazaoViagem, C...</td>\n",
       "      <td>&lt;class 'sklearn.ensemble._forest.RandomForestC...</td>\n",
       "      <td>gustavotamiosso</td>\n",
       "      <td>LOCAL</td>\n",
       "      <td>BoraBus Hackathon</td>\n",
       "      <td>93ea8cb2c40e1ef25f1489b0267526bd47bc8030</td>\n",
       "      <td>/opt/homebrew/lib/python3.10/site-packages/ipy...</td>\n",
       "      <td>[{\"run_id\": \"1f286219c17541b9bddaa7730adfcc70\"...</td>\n",
       "    </tr>\n",
       "    <tr>\n",
       "      <th>10</th>\n",
       "      <td>a97ff417233441aaadd15ae5bec355b8</td>\n",
       "      <td>1</td>\n",
       "      <td>FINISHED</td>\n",
       "      <td>file:///Users/gustavotamiosso/dm/treinamentos/...</td>\n",
       "      <td>2022-09-25 13:45:03.698000+00:00</td>\n",
       "      <td>2022-09-25 13:45:10.875000+00:00</td>\n",
       "      <td>0.958804</td>\n",
       "      <td>0.957346</td>\n",
       "      <td>0.914693</td>\n",
       "      <td>0.0</td>\n",
       "      <td>&lt;class 'sklearn.preprocessing._data.MinMaxScal...</td>\n",
       "      <td>Genero, PlanoFidelidade, Idade, RazaoViagem, C...</td>\n",
       "      <td>&lt;class 'sklearn.ensemble._forest.RandomForestC...</td>\n",
       "      <td>gustavotamiosso</td>\n",
       "      <td>LOCAL</td>\n",
       "      <td>BoraBus Hackathon</td>\n",
       "      <td>93ea8cb2c40e1ef25f1489b0267526bd47bc8030</td>\n",
       "      <td>/opt/homebrew/lib/python3.10/site-packages/ipy...</td>\n",
       "      <td>[{\"run_id\": \"a97ff417233441aaadd15ae5bec355b8\"...</td>\n",
       "    </tr>\n",
       "    <tr>\n",
       "      <th>9</th>\n",
       "      <td>5ec7f56d3617476db6019861532752d2</td>\n",
       "      <td>1</td>\n",
       "      <td>FINISHED</td>\n",
       "      <td>file:///Users/gustavotamiosso/dm/treinamentos/...</td>\n",
       "      <td>2022-09-25 13:45:10.898000+00:00</td>\n",
       "      <td>2022-09-25 13:45:18.243000+00:00</td>\n",
       "      <td>0.958355</td>\n",
       "      <td>0.956756</td>\n",
       "      <td>0.913513</td>\n",
       "      <td>0.0</td>\n",
       "      <td>&lt;class 'sklearn.preprocessing._data.StandardSc...</td>\n",
       "      <td>Genero, PlanoFidelidade, Idade, RazaoViagem, C...</td>\n",
       "      <td>&lt;class 'sklearn.ensemble._forest.RandomForestC...</td>\n",
       "      <td>gustavotamiosso</td>\n",
       "      <td>LOCAL</td>\n",
       "      <td>BoraBus Hackathon</td>\n",
       "      <td>93ea8cb2c40e1ef25f1489b0267526bd47bc8030</td>\n",
       "      <td>/opt/homebrew/lib/python3.10/site-packages/ipy...</td>\n",
       "      <td>[{\"run_id\": \"5ec7f56d3617476db6019861532752d2\"...</td>\n",
       "    </tr>\n",
       "    <tr>\n",
       "      <th>8</th>\n",
       "      <td>8f5a9645e4624ba8bc401fb1610e404b</td>\n",
       "      <td>1</td>\n",
       "      <td>FINISHED</td>\n",
       "      <td>file:///Users/gustavotamiosso/dm/treinamentos/...</td>\n",
       "      <td>2022-09-25 13:45:18.269000+00:00</td>\n",
       "      <td>2022-09-25 13:45:25.610000+00:00</td>\n",
       "      <td>0.958355</td>\n",
       "      <td>0.956968</td>\n",
       "      <td>0.913937</td>\n",
       "      <td>0.0</td>\n",
       "      <td>&lt;class 'sklearn.preprocessing._data.StandardSc...</td>\n",
       "      <td>Genero, PlanoFidelidade, Idade, RazaoViagem, C...</td>\n",
       "      <td>&lt;class 'sklearn.ensemble._forest.RandomForestC...</td>\n",
       "      <td>gustavotamiosso</td>\n",
       "      <td>LOCAL</td>\n",
       "      <td>BoraBus Hackathon</td>\n",
       "      <td>93ea8cb2c40e1ef25f1489b0267526bd47bc8030</td>\n",
       "      <td>/opt/homebrew/lib/python3.10/site-packages/ipy...</td>\n",
       "      <td>[{\"run_id\": \"8f5a9645e4624ba8bc401fb1610e404b\"...</td>\n",
       "    </tr>\n",
       "    <tr>\n",
       "      <th>7</th>\n",
       "      <td>4e89c2561f574e1ea628c23e697fc18c</td>\n",
       "      <td>1</td>\n",
       "      <td>FINISHED</td>\n",
       "      <td>file:///Users/gustavotamiosso/dm/treinamentos/...</td>\n",
       "      <td>2022-09-25 13:45:25.634000+00:00</td>\n",
       "      <td>2022-09-25 13:45:32.642000+00:00</td>\n",
       "      <td>0.957777</td>\n",
       "      <td>0.956371</td>\n",
       "      <td>0.912743</td>\n",
       "      <td>0.0</td>\n",
       "      <td>&lt;class 'sklearn.preprocessing._data.RobustScal...</td>\n",
       "      <td>Genero, PlanoFidelidade, Idade, RazaoViagem, C...</td>\n",
       "      <td>&lt;class 'sklearn.ensemble._forest.RandomForestC...</td>\n",
       "      <td>gustavotamiosso</td>\n",
       "      <td>LOCAL</td>\n",
       "      <td>BoraBus Hackathon</td>\n",
       "      <td>93ea8cb2c40e1ef25f1489b0267526bd47bc8030</td>\n",
       "      <td>/opt/homebrew/lib/python3.10/site-packages/ipy...</td>\n",
       "      <td>[{\"run_id\": \"4e89c2561f574e1ea628c23e697fc18c\"...</td>\n",
       "    </tr>\n",
       "  </tbody>\n",
       "</table>\n",
       "</div>"
      ],
      "text/plain": [
       "                              run_id experiment_id    status  \\\n",
       "11  1f286219c17541b9bddaa7730adfcc70             1  FINISHED   \n",
       "10  a97ff417233441aaadd15ae5bec355b8             1  FINISHED   \n",
       "9   5ec7f56d3617476db6019861532752d2             1  FINISHED   \n",
       "8   8f5a9645e4624ba8bc401fb1610e404b             1  FINISHED   \n",
       "7   4e89c2561f574e1ea628c23e697fc18c             1  FINISHED   \n",
       "\n",
       "                                         artifact_uri  \\\n",
       "11  file:///Users/gustavotamiosso/dm/treinamentos/...   \n",
       "10  file:///Users/gustavotamiosso/dm/treinamentos/...   \n",
       "9   file:///Users/gustavotamiosso/dm/treinamentos/...   \n",
       "8   file:///Users/gustavotamiosso/dm/treinamentos/...   \n",
       "7   file:///Users/gustavotamiosso/dm/treinamentos/...   \n",
       "\n",
       "                         start_time                         end_time  \\\n",
       "11 2022-09-25 13:44:57.217000+00:00 2022-09-25 13:45:03.672000+00:00   \n",
       "10 2022-09-25 13:45:03.698000+00:00 2022-09-25 13:45:10.875000+00:00   \n",
       "9  2022-09-25 13:45:10.898000+00:00 2022-09-25 13:45:18.243000+00:00   \n",
       "8  2022-09-25 13:45:18.269000+00:00 2022-09-25 13:45:25.610000+00:00   \n",
       "7  2022-09-25 13:45:25.634000+00:00 2022-09-25 13:45:32.642000+00:00   \n",
       "\n",
       "    metrics.Accuracy  metrics.ROC_AUC  metrics.KS  metrics.KS_pvalue  \\\n",
       "11          0.959638         0.957834    0.915667                0.0   \n",
       "10          0.958804         0.957346    0.914693                0.0   \n",
       "9           0.958355         0.956756    0.913513                0.0   \n",
       "8           0.958355         0.956968    0.913937                0.0   \n",
       "7           0.957777         0.956371    0.912743                0.0   \n",
       "\n",
       "                                  params.normalizador  \\\n",
       "11  <class 'sklearn.preprocessing._data.MinMaxScal...   \n",
       "10  <class 'sklearn.preprocessing._data.MinMaxScal...   \n",
       "9   <class 'sklearn.preprocessing._data.StandardSc...   \n",
       "8   <class 'sklearn.preprocessing._data.StandardSc...   \n",
       "7   <class 'sklearn.preprocessing._data.RobustScal...   \n",
       "\n",
       "                            params.colunas utilizadas  \\\n",
       "11  Genero, PlanoFidelidade, Idade, RazaoViagem, C...   \n",
       "10  Genero, PlanoFidelidade, Idade, RazaoViagem, C...   \n",
       "9   Genero, PlanoFidelidade, Idade, RazaoViagem, C...   \n",
       "8   Genero, PlanoFidelidade, Idade, RazaoViagem, C...   \n",
       "7   Genero, PlanoFidelidade, Idade, RazaoViagem, C...   \n",
       "\n",
       "                                         params.model tags.mlflow.user  \\\n",
       "11  <class 'sklearn.ensemble._forest.RandomForestC...  gustavotamiosso   \n",
       "10  <class 'sklearn.ensemble._forest.RandomForestC...  gustavotamiosso   \n",
       "9   <class 'sklearn.ensemble._forest.RandomForestC...  gustavotamiosso   \n",
       "8   <class 'sklearn.ensemble._forest.RandomForestC...  gustavotamiosso   \n",
       "7   <class 'sklearn.ensemble._forest.RandomForestC...  gustavotamiosso   \n",
       "\n",
       "   tags.mlflow.source.type tags.mlflow.runName  \\\n",
       "11                   LOCAL   BoraBus Hackathon   \n",
       "10                   LOCAL   BoraBus Hackathon   \n",
       "9                    LOCAL   BoraBus Hackathon   \n",
       "8                    LOCAL   BoraBus Hackathon   \n",
       "7                    LOCAL   BoraBus Hackathon   \n",
       "\n",
       "               tags.mlflow.source.git.commit  \\\n",
       "11  93ea8cb2c40e1ef25f1489b0267526bd47bc8030   \n",
       "10  93ea8cb2c40e1ef25f1489b0267526bd47bc8030   \n",
       "9   93ea8cb2c40e1ef25f1489b0267526bd47bc8030   \n",
       "8   93ea8cb2c40e1ef25f1489b0267526bd47bc8030   \n",
       "7   93ea8cb2c40e1ef25f1489b0267526bd47bc8030   \n",
       "\n",
       "                              tags.mlflow.source.name  \\\n",
       "11  /opt/homebrew/lib/python3.10/site-packages/ipy...   \n",
       "10  /opt/homebrew/lib/python3.10/site-packages/ipy...   \n",
       "9   /opt/homebrew/lib/python3.10/site-packages/ipy...   \n",
       "8   /opt/homebrew/lib/python3.10/site-packages/ipy...   \n",
       "7   /opt/homebrew/lib/python3.10/site-packages/ipy...   \n",
       "\n",
       "                        tags.mlflow.log-model.history  \n",
       "11  [{\"run_id\": \"1f286219c17541b9bddaa7730adfcc70\"...  \n",
       "10  [{\"run_id\": \"a97ff417233441aaadd15ae5bec355b8\"...  \n",
       "9   [{\"run_id\": \"5ec7f56d3617476db6019861532752d2\"...  \n",
       "8   [{\"run_id\": \"8f5a9645e4624ba8bc401fb1610e404b\"...  \n",
       "7   [{\"run_id\": \"4e89c2561f574e1ea628c23e697fc18c\"...  "
      ]
     },
     "execution_count": 104,
     "metadata": {},
     "output_type": "execute_result"
    }
   ],
   "source": [
    "runs.head()"
   ]
  },
  {
   "cell_type": "code",
   "execution_count": 105,
   "metadata": {},
   "outputs": [
    {
     "data": {
      "text/plain": [
       "'Genero, PlanoFidelidade, Idade, RazaoViagem, CategoriaPassagem, DistanciaKm, WiFi, ConvenienciaHorarios, FacilidadeReservaViaApp, PontosLocalizacao, Alimentacao, CheckInViaApp, ConfortoInterno, Entretenimento, ServicosIntegracao, SalaDeEspera, Bagagem, ServicoCheckIn, ServicoDeBordo, Limpeza&Higiene, AtrasoNaSaida, AtrasoNaChegada'"
      ]
     },
     "execution_count": 105,
     "metadata": {},
     "output_type": "execute_result"
    }
   ],
   "source": [
    "runs.iloc[0]['params.colunas utilizadas']"
   ]
  },
  {
   "cell_type": "code",
   "execution_count": 106,
   "metadata": {},
   "outputs": [],
   "source": [
    "best_run_id_by_accuracy = runs.iloc[0]['run_id']"
   ]
  },
  {
   "cell_type": "code",
   "execution_count": 107,
   "metadata": {},
   "outputs": [
    {
     "data": {
      "text/plain": [
       "run_id                                            1f286219c17541b9bddaa7730adfcc70\n",
       "experiment_id                                                                    1\n",
       "status                                                                    FINISHED\n",
       "artifact_uri                     file:///Users/gustavotamiosso/dm/treinamentos/...\n",
       "start_time                                        2022-09-25 13:44:57.217000+00:00\n",
       "end_time                                          2022-09-25 13:45:03.672000+00:00\n",
       "metrics.Accuracy                                                          0.959638\n",
       "metrics.ROC_AUC                                                           0.957834\n",
       "metrics.KS                                                                0.915667\n",
       "metrics.KS_pvalue                                                              0.0\n",
       "params.normalizador              <class 'sklearn.preprocessing._data.MinMaxScal...\n",
       "params.colunas utilizadas        Genero, PlanoFidelidade, Idade, RazaoViagem, C...\n",
       "params.model                     <class 'sklearn.ensemble._forest.RandomForestC...\n",
       "tags.mlflow.user                                                   gustavotamiosso\n",
       "tags.mlflow.source.type                                                      LOCAL\n",
       "tags.mlflow.runName                                              BoraBus Hackathon\n",
       "tags.mlflow.source.git.commit             93ea8cb2c40e1ef25f1489b0267526bd47bc8030\n",
       "tags.mlflow.source.name          /opt/homebrew/lib/python3.10/site-packages/ipy...\n",
       "tags.mlflow.log-model.history    [{\"run_id\": \"1f286219c17541b9bddaa7730adfcc70\"...\n",
       "Name: 11, dtype: object"
      ]
     },
     "execution_count": 107,
     "metadata": {},
     "output_type": "execute_result"
    }
   ],
   "source": [
    "runs.iloc[0]"
   ]
  },
  {
   "cell_type": "code",
   "execution_count": 108,
   "metadata": {},
   "outputs": [],
   "source": [
    "best_model = mlflow.pyfunc.load_model(f'runs:/{best_run_id_by_accuracy}/pipeline')"
   ]
  },
  {
   "cell_type": "code",
   "execution_count": 109,
   "metadata": {},
   "outputs": [
    {
     "data": {
      "text/plain": [
       "array([0, 0, 1, ..., 0, 0, 1])"
      ]
     },
     "execution_count": 109,
     "metadata": {},
     "output_type": "execute_result"
    }
   ],
   "source": [
    "best_model.predict(test_10.drop(columns=['SatisfacaoGeral']))"
   ]
  }
 ],
 "metadata": {
  "kernelspec": {
   "display_name": "Python 3.10.6 64-bit",
   "language": "python",
   "name": "python3"
  },
  "language_info": {
   "codemirror_mode": {
    "name": "ipython",
    "version": 3
   },
   "file_extension": ".py",
   "mimetype": "text/x-python",
   "name": "python",
   "nbconvert_exporter": "python",
   "pygments_lexer": "ipython3",
   "version": "3.10.6"
  },
  "orig_nbformat": 4,
  "vscode": {
   "interpreter": {
    "hash": "a0a5145e6c304e2a9afaf5b930a2955b950bd4b81fe94f7c42930f43f42762eb"
   }
  }
 },
 "nbformat": 4,
 "nbformat_minor": 2
}
